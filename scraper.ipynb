{
 "cells": [
  {
   "cell_type": "code",
   "execution_count": 28,
   "metadata": {},
   "outputs": [
    {
     "name": "stderr",
     "output_type": "stream",
     "text": [
      "The geckodriver version (0.33.0) detected in PATH at /usr/local/bin/geckodriver might not be compatible with the detected firefox version (121.0); currently, geckodriver 0.34.0 is recommended for firefox 121.*, so it is advised to delete the driver in PATH and retry\n"
     ]
    },
    {
     "name": "stdout",
     "output_type": "stream",
     "text": [
      "Error or 'Next' button not found: Message: Element <li class=\"pagination-item event_button_click\"> could not be scrolled into view\n",
      "Stacktrace:\n",
      "RemoteError@chrome://remote/content/shared/RemoteError.sys.mjs:8:8\n",
      "WebDriverError@chrome://remote/content/shared/webdriver/Errors.sys.mjs:189:5\n",
      "ElementNotInteractableError@chrome://remote/content/shared/webdriver/Errors.sys.mjs:349:5\n",
      "webdriverClickElement@chrome://remote/content/marionette/interaction.sys.mjs:166:11\n",
      "interaction.clickElement@chrome://remote/content/marionette/interaction.sys.mjs:135:11\n",
      "clickElement@chrome://remote/content/marionette/actors/MarionetteCommandsChild.sys.mjs:204:29\n",
      "receiveMessage@chrome://remote/content/marionette/actors/MarionetteCommandsChild.sys.mjs:84:31\n",
      "\n",
      "Total number of job links collected: 20\n",
      "['https://www.mondelezinternational.com/careers/jobs/job?jobid=R-99479&jobtitle=KA%20Manager,%20Lawson%20&%20FM', 'https://www.mondelezinternational.com/careers/jobs/job?jobid=R-99150&jobtitle=Mondelez%20Sales%20Representative', 'https://www.mondelezinternational.com/careers/jobs/job?jobid=R-97855&jobtitle=Storeman', 'https://www.mondelezinternational.com/careers/jobs/job?jobid=R-96917&jobtitle=KA%20Supervisor,%20SINOPEC', 'https://www.mondelezinternational.com/careers/jobs/job?jobid=R-95539&jobtitle=Mobility%20Advisor,%20AMEA', 'https://www.mondelezinternational.com/careers/jobs/job?jobid=R-101688&jobtitle=Mondel%C4%93z%20Sales%20Representative', 'https://www.mondelezinternational.com/careers/jobs/job?jobid=R-101685&jobtitle=Mondel%C4%93z%20Sales%20Representative', 'https://www.mondelezinternational.com/careers/jobs/job?jobid=R-101670&jobtitle=Representative,%20Field%20Sales', 'https://www.mondelezinternational.com/careers/jobs/job?jobid=R-101572&jobtitle=KA%20Supervisor', 'https://www.mondelezinternational.com/careers/jobs/job?jobid=R-101553&jobtitle=Supervisor,%20Field%20Sales', 'https://www.mondelezinternational.com/careers/jobs/job?jobid=R-101551&jobtitle=Representative,%20Field%20Sales', 'https://www.mondelezinternational.com/careers/jobs/job?jobid=R-101535&jobtitle=Mondel%C4%93z%20Sales%20Representative', 'https://www.mondelezinternational.com/careers/jobs/job?jobid=R-101526&jobtitle=Sales%20Representative', 'https://www.mondelezinternational.com/careers/jobs/job?jobid=R-101517&jobtitle=Mondelez%20Sales%20Representative', 'https://www.mondelezinternational.com/careers/jobs/job?jobid=R-101514&jobtitle=Mondel%C4%93z%20Sales%20Representative', 'https://www.mondelezinternational.com/careers/jobs/job?jobid=R-101512&jobtitle=Severance%20My%20W&L%20Events%20Sr%20Advisor%20NA', 'https://www.mondelezinternational.com/careers/jobs/job?jobid=R-101511&jobtitle=My%20W&L%20Events%20Sr%20Advisor%20NA', 'https://www.mondelezinternational.com/careers/jobs/job?jobid=R-101510&jobtitle=My%20W&L%20Events%20Advisor%20NA%20Massive%20Request', 'https://www.mondelezinternational.com/careers/jobs/job?jobid=R-101509&jobtitle=My%20W&L%20Events%20Advisor%20NA%20Tier%202', 'https://www.mondelezinternational.com/careers/jobs/job?jobid=R-101508&jobtitle=T&A%20Analyst%20NA']\n"
     ]
    }
   ],
   "source": [
    "from selenium import webdriver\n",
    "from selenium.webdriver.common.by import By\n",
    "from selenium.webdriver.support.ui import WebDriverWait\n",
    "from selenium.webdriver.support import expected_conditions as EC\n",
    "\n",
    "def get_job_links(url):\n",
    "    job_links = []\n",
    "\n",
    "    # Setup the Firefox WebDriver\n",
    "    driver = webdriver.Firefox()\n",
    "\n",
    "    driver.get(url)\n",
    "\n",
    "    while True:\n",
    "        # Check for and handle the cookie consent dialog\n",
    "        try:\n",
    "            cookie_reject_button = WebDriverWait(driver, 5).until(\n",
    "                EC.element_to_be_clickable((By.XPATH, \"//*[@id='onetrust-reject-all-handler']\"))\n",
    "            )\n",
    "            cookie_reject_button.click()\n",
    "        except Exception as e:\n",
    "            # If the cookie button is not found, continue\n",
    "            pass\n",
    "\n",
    "        # Wait for job links to load\n",
    "        WebDriverWait(driver, 10).until(\n",
    "            EC.presence_of_all_elements_located((By.CSS_SELECTOR, \"a[href*='/careers/jobs/job?jobid=']\"))\n",
    "        )\n",
    "\n",
    "        # Find all job links\n",
    "        jobs = driver.find_elements(By.CSS_SELECTOR, \"a[href*='/careers/jobs/job?jobid=']\")\n",
    "        job_links.extend([job.get_attribute('href') for job in jobs])\n",
    "\n",
    "        # Try to find and click the 'Next' button\n",
    "        try:\n",
    "            next_button_selector = \"#global-main-content > main > div > div.containerPaginationWrapper.w-full.box-border.md\\\\:max-w-md.lg\\\\:max-w-lg.xl\\\\:max-w-xl.mx-auto.px-\\\\[35px\\\\].md\\\\:px-\\\\[15px\\\\].pb-\\\\[45px\\\\] > ul > li:nth-child(12)\"\n",
    "            next_button = WebDriverWait(driver, 10).until(\n",
    "                EC.element_to_be_clickable((By.CSS_SELECTOR, next_button_selector))\n",
    "            )\n",
    "            next_button.click()\n",
    "        except Exception as e:\n",
    "            print(\"Error or 'Next' button not found:\", e)\n",
    "            break\n",
    "\n",
    "    driver.quit()\n",
    "\n",
    "    print(f\"Total number of job links collected: {len(job_links)}\")\n",
    "    return job_links\n",
    "\n",
    "# Starting URL\n",
    "starting_url = 'https://www.mondelezinternational.com/careers/jobs/'\n",
    "all_job_links = get_job_links(starting_url)\n",
    "print(all_job_links)\n"
   ]
  },
  {
   "cell_type": "code",
   "execution_count": null,
   "metadata": {},
   "outputs": [],
   "source": []
  }
 ],
 "metadata": {
  "kernelspec": {
   "display_name": ".venv",
   "language": "python",
   "name": "python3"
  },
  "language_info": {
   "codemirror_mode": {
    "name": "ipython",
    "version": 3
   },
   "file_extension": ".py",
   "mimetype": "text/x-python",
   "name": "python",
   "nbconvert_exporter": "python",
   "pygments_lexer": "ipython3",
   "version": "3.10.12"
  }
 },
 "nbformat": 4,
 "nbformat_minor": 2
}
