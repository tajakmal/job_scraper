{
 "cells": [
  {
   "cell_type": "code",
   "execution_count": 52,
   "metadata": {},
   "outputs": [],
   "source": [
    "from selenium import webdriver\n",
    "from selenium.webdriver.common.by import By\n",
    "from selenium.webdriver.support.ui import WebDriverWait\n",
    "from selenium.webdriver.support import expected_conditions as EC\n",
    "from selenium.common.exceptions import TimeoutException\n",
    "import time"
   ]
  },
  {
   "cell_type": "code",
   "execution_count": null,
   "metadata": {},
   "outputs": [],
   "source": [
    "def get_job_links(url):\n",
    "    job_links = []\n",
    "\n",
    "    # Setup the Firefox WebDriver\n",
    "    driver = webdriver.Firefox()\n",
    "\n",
    "    driver.get(url)\n",
    "\n",
    "    while True:\n",
    "        try:\n",
    "            # Handling cookie consent\n",
    "            try:\n",
    "                cookie_reject_button = WebDriverWait(driver, 5).until(\n",
    "                    EC.element_to_be_clickable((By.XPATH, \"//*[@id='onetrust-reject-all-handler']\"))\n",
    "                )\n",
    "                cookie_reject_button.click()\n",
    "            except Exception as e:\n",
    "                pass\n",
    "\n",
    "            # Re-query the DOM for job links after each navigation\n",
    "            WebDriverWait(driver, 10).until(\n",
    "                EC.presence_of_all_elements_located((By.CSS_SELECTOR, \"a[href*='/careers/jobs/job?jobid=']\"))\n",
    "            )\n",
    "\n",
    "            jobs = driver.find_elements(By.CSS_SELECTOR, \"a[href*='/careers/jobs/job?jobid=']\")\n",
    "            for job in jobs:\n",
    "                job_links.append(job.get_attribute('href'))\n",
    "\n",
    "            print(f\"Scraping page: {driver.current_url}\")  # Log the current URL\n",
    "\n",
    "            # Find the 'Next' button by its text and check if it's present and visible\n",
    "            next_buttons = driver.find_elements(By.XPATH, \"//div[contains(text(), 'Next') and not(contains(@class, 'disabled'))]\")\n",
    "\n",
    "            if next_buttons:\n",
    "                next_button = next_buttons[-1]\n",
    "                driver.execute_script(\"arguments[0].scrollIntoView(true);\", next_button)\n",
    "                driver.execute_script(\"window.scrollBy(0, -150);\")  # Adjust if needed\n",
    "                driver.execute_script(\"arguments[0].click();\", next_button)\n",
    "\n",
    "                # Wait for the new page to load after clicking 'Next'\n",
    "                WebDriverWait(driver, 10).until(\n",
    "                    EC.presence_of_all_elements_located((By.CSS_SELECTOR, \"a[href*='/careers/jobs/job?jobid=']\"))\n",
    "                )\n",
    "            else:\n",
    "                print(f\"No 'Next' button found. Ending pagination at: {driver.current_url}\")\n",
    "                break\n",
    "\n",
    "        except Exception as e:\n",
    "            print(\"Error occurred on page:\", driver.current_url)\n",
    "            print(\"Error details:\", e)\n",
    "            break\n",
    "\n",
    "    driver.quit()\n",
    "    print(f\"Total number of job links collected: {len(job_links)}\")\n",
    "    return job_links\n",
    "\n",
    "# Starting URL\n",
    "starting_url = 'https://www.mondelezinternational.com/careers/jobs/'\n",
    "all_job_links = get_job_links(starting_url)\n",
    "print(all_job_links)"
   ]
  },
  {
   "cell_type": "markdown",
   "metadata": {},
   "source": [
    "# Scraping Each Link"
   ]
  },
  {
   "cell_type": "code",
   "execution_count": 57,
   "metadata": {},
   "outputs": [
    {
     "name": "stdout",
     "output_type": "stream",
     "text": [
      "[{'url': 'https://www.mondelezinternational.com/careers/jobs/job?jobid=R-99927&jobtitle=Nabisco%20Sales%20Coverage%20Representative', 'description': \"Join our Mission to Lead the Future of Snacking. Are you ready to make it happen at Mondelēz International? Nabisco Senior Sales Service Merchandiser Become one of our Nabisco Senior Sales Service Merchandiser by fulfilling the merchandising needs of our grocery-related customers through stocking the shelves and building and maintaining displays and partnering up with nationally recognized customers such as Walmart, Kroger, Target, Albertsons  and more. Become an ambassador of world-famous brands like Oreo, Ritz, belVita, Chips Ahoy, Triscuit among other delicious industry-leading snacks. In this position you will maximize sales, conduct effective planning & order-writing, as well as supporting and completing activities such as merchandising & shelf-pricing by acting as a sales expert to retail stores on a variety of territories covering the absence of a Sales Representative who may be on vacation or a leave of absence.  Main responsibilities: Carry out instore visits according to Mondelez’ visit method. Order product (via iPad Tablet) for shelf and display to ensure in stock conditions. Ensure Nabisco leading brands (Oreo, Ritz, Belvita, Chips Ahoy, Triscuit among others) are well represented, stocked and maintained through the implementation of Mondelēz’ guidelines. Ensure Sales Representative’s negotiations with store managers are being followed and communicate any issues with Mondelēz management team. Follow the daily route planning prepared by the operations team to ensure the most efficient instore service. Represent Mondelēz International in front of in store employees and work closely with sales representative to optimize visibility of Mondelez products on shelves and the construction of promotional displays. Enhance seasonal sales, seasonal displays, and new product launches. What you can expect from us: This position offers a comprehensive medical, dental and vision benefit package, in addition to paid vacation, holidays, 401(k) match and Employee Assistance Program benefits. Along with a competitive compensation package and mileage reimbursement, the Senior Sales Service Representative is also eligible to participate in an incentive program. Who is a good fit? Be at least 18 years of age, have a valid driver's license and proof of auto insurance Ability to drive your personal vehicle to a variety of store locations (mileage will be reimbursed). High School Diploma or GED required; college degree preferred Ability to perform in a fast-paced work environment and to meet the defined physical activities like repetitive lifting, bending, and carrying up to 25 lbs. This includes physically moving our products from the stock rooms and stocking the store’s shelves. Live within 25-35 miles range from the primary location: West Ashley, SC Secondary Locations:Johns Island, SC Schedule: Sunday - Thursday Mondelēz Global LLC is an Equal Opportunity/Affirmative Action employer. All qualified applicants will receive consideration for employment without regard to race, color, religion, sex, national origin, disability, protected Veteran status, sexual orientation, gender identity, gender expression, genetic information, or any other characteristic protected by law. Applicants who require accommodation to participate in the job application process may contact 847-943-5460 for assistance.\"}, {'url': 'https://www.mondelezinternational.com/careers/jobs/job?jobid=R-99682&jobtitle=Maintenance%20&%20VSU%20Lead,%20Confy', 'description': 'Are You Ready to Make It Happen at Mondelēz International? Join our Mission to Lead the Future of Snacking. Make It With Pride. As expert you will bring a deep technical mastery of the process and equipment. That expertise allows you to lead the planning, process development and implementation of Planned Maintenance Elements in a Continuous Improvement manufacturing environment. You will manage this through teams consisting of various technical and non-technical personnel, key support contractors and operations personnel. How you will contribute You will: Partner & Enable the line leader(s) to deliver the SQCDSM targets-Safety, Quality, Cost, Delivery, Sustainability & Morale for the lines, to ensure Process stability; Participates in the DMS- Daily Management systems meetings at the shift and line level. Own the technology and process and centerline settings for the equipment and process and have deep technical mastery of the process and equipment; Owns the PM-Progressive maintenance systems and work processes and the PM-Progressive Maintenance Key Performance Indicators for the line/s along with Centerline Management systems; owns the R&M-Repairs & Maintenance budget of the line. Develop, own and execute the line/s preventive and time-based maintenance systems and plans and build capability of the team to execute themselves; Build (spends at least 50% of time) technical and maintenance skills of the technicians working in the shifts, so that they are able to operate and maintain their equipment themselves;  be part of the PM Pillar, own all PM systems and work process at the line level and lead some of them at the department level. Partner with the Asset and Reliability team for system improvement and execution of special maintenance tasks; be responsible for Change Management on the line/s, localization of spares and proper break-down analysis and R&M cost reduction for the line/s; Represents the department/line/s as the site technology owner in the regional and global technology forums. Assist in VSU for the new initiatives and enable the VSU team; Help the line leader in internal and external benchmarking and reapplication; be the subject matter expert on one of the component categories and be a trainer of PM related subjects for the plant. What you will bring A desire to drive your future and accelerate your career and the following experience and knowledge: Advanced knowledge (including AM-Autonomous Maintenance Step 4 systems & Progressive Maintenance Step 3) & skill to maintain the dedicated equipment(s)at basic conditions independently, including the execution of AM & PM (BD-Breakdown maintenance, planned maintenance) standards on dedicated equipment(s) and TPM - Phase 3 & 4 tools problem solving tools. The capability to lead a Role for the ensuring the of PM Plans in Electrical & Instruments systems (Instruments, PLC Systems, LT Substations, Transformers etc). Maintain the inventory of critical items of Mechanical and E&I control parts in cost effective manner to avoid losses. The capability to work as the Line Leader, developing and aligning goal/master plan for the line, deploying and managing IDP for the members, coaching team members on their performance management and career development. More about this role What you need to know about this position: Ideal candidate must have more than 6 years of Experience in Electrical/Automation maintenance & troubleshooting. Education / Certifications: B.E in Electrical/Electronics/Mechatronics Engineering Job specific Skills:Electrical Controls · PLC Programming · Technical Training · Workplace Safety · Budgeting · Pneumatics · Equipment Maintenance · Electrical Maintenance · Maintenance Management · Industrial Automation Mondelēz International is an equal opportunity employer and all qualified applicants will receive consideration for employment without regard to race, color, religion, gender, sexual orientation or preference, gender identity, national origin, disability status, protected veteran status, or any other characteristic protected by law.'}, {'url': 'https://www.mondelezinternational.com/careers/jobs/job?jobid=R-99608&jobtitle=Analyst,%20SAP%20Basis%20Operations', 'description': \"Are You Ready to Make It Happen at Mondelēz International? Join our Mission to Lead the Future of Snacking. Make It Uniquely Yours. You provide software and application expertise and analysis to support implementation of the strategy and the solution. How you will contribute You will provide expert consultation for a specific software or application, leading on issues and resolutions, optimizing service delivery to meet business demands and the service operations strategy. To excel in this role, you will recommend steps to optimize investments and benefits and to mitigate risks for a specific application. In addition, you will identify suppliers, evaluate them, on-board new vendors, and oversee them, work with project resources to provide design collateral and to configure software components that are aligned with security policy and governance, ensure adherence configuration standards and processes, and share your knowledge of the technology with relevant stakeholders. What you will bring A desire to drive your future and accelerate your career. You will bring experience and knowledge in: Working with multiple vendors and encouraging collaboration for a specific software or application Working on complex projects Stakeholder management and influencing skills Service delivery, support and excellence Project management Working in a global IT function with regional or global responsibilities in an environment similar to Mondelēz International Working with IT outsourcing providers using frameworks such as the IT International Library Working with internal and external teams and leading when necessary More about this role We are seeking a skilled SAP Basis Consultant to join our team and provide expertise in SAP Basis administration, enhancement, and support project What you need to know about this position: Ensuring the stability, performance, and availability of our SAP systems Managing system enhancements and supporting the ongoing operations of our SAP landscape What extra ingredients you will bring: Perform system installations, upgrades, and patching of SAP systems, including ECC, BW, APO, EWM and other relevant systems Monitor system performance, analyze system logs, and implement performance tuning measures to optimize system response times Collaborate with cross-functional teams and stakeholders to design and configure the SAP system landscape, including system architecture, system profiles, transport management, and system monitoring. SAP and/or Microsoft Azure certification is a plus Excellent problem-solving and analytical skills, with the ability to diagnose and resolve complex system issues Excellent problem-solving and analytical skills, with the ability to diagnose and resolve complex system issues Strong communication and interpersonal skills to effectively collaborate with stakeholders at all levels of the organization Strong communication and interpersonal skills to effectively collaborate with stakeholders at all levels of the organization Education / Certifications: Bachelor's degree or equivalent in computer science, Information Systems, or a related field Job specific requirements: 8-10  years of experience for SAP support work including enhancements and projects. Must have proficient English-speaking skills to work closely with the internal and external stakeholders. Must be able to support in a Global environment. Proven experience as an SAP Basis Consultant, with a strong understanding of SAP Basis administration, system installations, upgrades, and support of SAP systems running in Azure with Microsoft MSSQL In-depth knowledge of SAP system landscapes, system profiles, transport management, and system monitoring Proficiency in SAP system performance tuning, troubleshooting, and optimization techniques Experience in SAP user management, security administration, and authorization concepts a plus Experience with SAP HANA systems Experience with SAP Java based systems. Experience with SAP middleware systems such as PO Familiarity with SAP system integration and interfaces using IDocs, RFCs, and web services Mondelēz International is an equal opportunity employer and all qualified applicants will receive consideration for employment without regard to race, color, religion, gender, sexual orientation or preference, gender identity, national origin, disability status, protected veteran status, or any other characteristic protected by law.\"}, {'url': 'https://www.mondelezinternational.com/careers/jobs/job?jobid=R-99479&jobtitle=KA%20Manager,%20Lawson%20&%20FM', 'description': 'Are You Ready to Make It Happen at Mondelēz International? Join our Mission to Lead the Future of Snacking. Make It With Pride. You support key account teams on a wide variety of activities to meet our strategic growth plan. How you will contribute You will: Support Account Managers to ensure an effectively communicated, coordinated and focused sales effort against key commercial priorities Negotiate with applicable account representatives, to build and maintain favorable and effective relationships with customers Provide support for all activities necessary to managing the customer relationship effectively including trade funds, invoicing and claims queries, relevant sales promotions, merchandising, shelf management and national sales programs etc. What you will bring A desire to drive your future and accelerate your career and the following experience and knowledge: Delivering results and problem solving Negotiation and influencing Planning and execution Analytical ability Microsoft Word, Excel and PowerPoint More about this role What you need to know about this position: What extra ingredients you will bring: Education / Certifications: Job specific requirements: Travel requirements: Work schedule: Mondelēz International is an equal opportunity employer and all qualified applicants will receive consideration for employment without regard to race, color, religion, gender, sexual orientation or preference, gender identity, national origin, disability status, protected veteran status, or any other characteristic protected by law.'}, {'url': 'https://www.mondelezinternational.com/careers/jobs/job?jobid=R-99256&jobtitle=Asset%20Reliability%20Process%20Technician', 'description': 'Are You Ready to Make It Happen at Mondelēz International? Join our Mission to Lead the Future of Snacking. Make It With Pride. Your goal is to achieve the required production volume in compliance with quality standards and in accordance with the KPIs. You will ensure a strong safety culture and satisfying internal & external customer needs. To achieve this you lead the planning, scheduling, logistics and materials management processes for Equipment spare parts and consumables in a Continuous Improvement manufacturing environment and an Integrated Lean Six Sigma culture.  How you will contribute Develop, own and execute the line/s preventive and time-based maintenance systems and plan and build capability of the team  to execute themselves; be part of the PM Pillar, own Key PM-Progressive Maintenance systems and work processes and build PM strategies in cooperation with pillar members. Plan for efficient preventive and predictive maintenance activities per the Work Order Management process, Assist in the troubleshooting and lead the repair planning for equipment performance issues, Develop, own and execute the line/s preventive and time-based maintenance systems and plan and build capability of the team  to execute themselves; be part of the PM Pillar, own Key PM-Progressive Maintenance systems and work processes and build PM strategies in cooperation with pillar members. Plan for efficient preventive and predictive maintenance activities per the Work Order Management process, Assist in the troubleshooting and lead the repair planning for equipment performance issues, Scheduling and coordinating contractor and service activities to ensure the efficient and safe operation of the plant’s equipment Scheduling and coordinating contractor and service activities to ensure the efficient and safe operation of the plant’s equipment Run MRP-Material Requirement Planning and planning procurement of spare parts according to demand and/or Progressive maintenance strategies; Eliminate useless and obsoletes materials; Update BOM’s and spare part inventories Run MRP-Material Requirement Planning and planning procurement of spare parts according to demand and/or Progressive maintenance strategies; Eliminate useless and obsoletes materials; Update BOM’s and spare part inventories Inventory Management of spare parts and other materials & consumables as needed by equipment technicians and apply self-service methodology for easy access. Define and implement policies for inventory optimization and based on TBM-Time based maintenance and CBM-condition based maintenance plans. Inventory Management of spare parts and other materials & consumables as needed by equipment technicians and apply self-service methodology for easy access. Define and implement policies for inventory optimization and based on TBM-Time based maintenance and CBM-condition based maintenance plans. Be responsible for corrective maintenance intervention and tags management/execution;  Coordinate the management of software backups; Be responsible for understanding and using SAP ERP systems & manage quality of data;  Facilitate the management of the technical library. Participate in selection of suppliers/contractors as necessary Be responsible for corrective maintenance intervention and tags management/execution;  Coordinate the management of software backups; Be responsible for understanding and using SAP ERP systems & manage quality of data;  Facilitate the management of the technical library. Participate in selection of suppliers/contractors as necessary Participates/leads in Root Cause Analyses investigations, organise and follow up on agreed corrective actions and preventative activities. Participates/leads in Root Cause Analyses investigations, organise and follow up on agreed corrective actions and preventative activities. Enable effective communication of M & R – maintenance & repairs direction to working team and leadership to eradicate Global Efficiency (GE) losses;  Lead cost reduction and spare parts optimization and critical spare parts management;  Foster equipment loss eradication/prevention culture;  Ensure basic training modules are relevant and accurate and interface with Education & Training Pillar to execute capability improvement in PM to enable knowledge transfer from PM to AM Enable effective communication of M & R – maintenance & repairs direction to working team and leadership to eradicate Global Efficiency (GE) losses;  Lead cost reduction and spare parts optimization and critical spare parts management;  Foster equipment loss eradication/prevention culture;  Ensure basic training modules are relevant and accurate and interface with Education & Training Pillar to execute capability improvement in PM to enable knowledge transfer from PM to AM What you will bring A desire to drive your future and accelerate your career and the following experience and knowledge: Advanced knowledge (including AM-Autonomous Maintenance Step 4 systems & Progressive Maintenance Step 3) & skill to maintain the dedicated equipment(s)at basic conditions independently, including the execution of AM & PM (BD-Breakdown maintenance, planned maintenance) standards on dedicated equipment(s) and TPM - Phase 3 & 4 tools problem solving tools. Advanced knowledge (including AM-Autonomous Maintenance Step 4 systems & Progressive Maintenance Step 3) & skill to maintain the dedicated equipment(s)at basic conditions independently, including the execution of AM & PM (BD-Breakdown maintenance, planned maintenance) standards on dedicated equipment(s) and TPM - Phase 3 & 4 tools problem solving tools. The capability to lead a Role for the Line. Qualify and coach the next level SWP owners and drive the common opportunity areas across the line in PDCA-Plan Do Check Adjust approach. Capability to deputise for Engineering manager, developing and aligning goal/master plan for the line, deploying and managing Development Plans for the members, coaching team members on their performance management and career development The capability to lead a Role for the Line. Qualify and coach the next level SWP owners and drive the common opportunity areas across the line in PDCA-Plan Do Check Adjust approach. Capability to deputise for Engineering manager, developing and aligning goal/master plan for the line, deploying and managing Development Plans for the members, coaching team members on their performance management and career development More about this role Work schedule: 100% The responsibilities of this position are performed within the framework of a regional business model that is defined and managed by Mondelēz  Europe GmbH, Switzerland . Mondelēz International is an equal opportunity employer and all qualified applicants will receive consideration for employment without regard to race, color, religion, gender, sexual orientation or preference, gender identity, national origin, disability status, protected veteran status, or any other characteristic protected by law.'}]\n"
     ]
    }
   ],
   "source": [
    "def get_job_details(job_links, limit=5):\n",
    "    job_details = []\n",
    "\n",
    "    # Setup the Firefox WebDriver\n",
    "    driver = webdriver.Firefox()\n",
    "\n",
    "    for link in job_links[:limit]:  # Process only the first 'limit' links\n",
    "        try:\n",
    "            driver.get(link)\n",
    "            WebDriverWait(driver, 10).until(\n",
    "                EC.presence_of_element_located((By.CSS_SELECTOR, \".jobDetailLeftContentWrap\"))\n",
    "            )\n",
    "\n",
    "            # Get all text from the <p> and <li> elements within the .jobDetailLeftContentWrap div\n",
    "            description_elements = driver.find_elements(By.CSS_SELECTOR, \".jobDetailLeftContentWrap p, .jobDetailLeftContentWrap li\")\n",
    "            description_text = ' '.join([elem.text for elem in description_elements if elem.text])\n",
    "\n",
    "            # Here you can add other details like title, job ID, etc., based on their selectors\n",
    "\n",
    "            job_details.append({\"url\": link, \"description\": description_text})\n",
    "\n",
    "        except TimeoutException:\n",
    "            print(f\"Timeout while trying to load page: {link}\")\n",
    "        except Exception as e:\n",
    "            print(f\"Error occurred on page: {link}\")\n",
    "            print(\"Error details:\", e)\n",
    "\n",
    "    driver.quit()\n",
    "    return job_details\n",
    "\n",
    "\n",
    "# Example usage\n",
    "job_details = get_job_details(all_job_links)\n",
    "print(job_details)"
   ]
  },
  {
   "cell_type": "code",
   "execution_count": null,
   "metadata": {},
   "outputs": [],
   "source": []
  }
 ],
 "metadata": {
  "kernelspec": {
   "display_name": ".venv",
   "language": "python",
   "name": "python3"
  },
  "language_info": {
   "codemirror_mode": {
    "name": "ipython",
    "version": 3
   },
   "file_extension": ".py",
   "mimetype": "text/x-python",
   "name": "python",
   "nbconvert_exporter": "python",
   "pygments_lexer": "ipython3",
   "version": "3.10.12"
  }
 },
 "nbformat": 4,
 "nbformat_minor": 2
}
